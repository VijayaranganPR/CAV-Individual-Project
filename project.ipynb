{
 "cells": [
  {
   "cell_type": "code",
   "execution_count": 5,
   "id": "a6aeb5d6-6b5c-43de-b8f5-1f0b66761f0c",
   "metadata": {},
   "outputs": [],
   "source": [
    "import numpy as np\n",
    "import matplotlib.pyplot as plt\n",
    "\n",
    "from PIL import Image\n",
    "import os\n",
    "import pandas as pd\n",
    "\n",
    "from sklearn.preprocessing import MinMaxScaler\n",
    "from sklearn.model_selection import train_test_split\n",
    "from tensorflow.keras.utils import to_categorical\n",
    "from keras.models import Sequential\n",
    "from keras.layers import Conv2D, MaxPool2D, Dense, Flatten, Dropout\n",
    "\n",
    "from sklearn.metrics import confusion_matrix\n",
    "from sklearn.metrics import accuracy_score\n",
    "from sklearn.metrics import precision_score\n",
    "from sklearn.metrics import recall_score\n",
    "from sklearn.metrics import f1_score\n",
    "\n"
   ]
  },
  {
   "cell_type": "code",
   "execution_count": 6,
   "id": "64dd958f-f668-437b-ad11-db9972360040",
   "metadata": {},
   "outputs": [],
   "source": [
    "\n",
    "data = []\n",
    "labels = []\n",
    "classes = 43\n",
    "cur_path = os.getcwd()\n",
    "data_folder = 'data'\n",
    "\n",
    "# Loading training dataset\n",
    "for i in range(classes):\n",
    "    path = os.path.join(cur_path,data_folder,'train',str(i))\n",
    "    images = os.listdir(path)\n",
    "\n",
    "    for a in images:\n",
    "        try:\n",
    "            image = Image.open(path + '\\\\'+ a)\n",
    "            image = image.resize((30,30))\n",
    "            image = np.array(image)\n",
    "            data.append(image)\n",
    "            labels.append(i)\n",
    "        except:\n",
    "            print(\"Error loading image\")"
   ]
  },
  {
   "cell_type": "code",
   "execution_count": 8,
   "id": "4dfc2854-80dc-4f45-908f-38b2bb019177",
   "metadata": {},
   "outputs": [],
   "source": [
    "# Converting lists into numpy arrays\n",
    "data = np.array(data)\n",
    "labels = np.array(labels)"
   ]
  },
  {
   "cell_type": "code",
   "execution_count": 9,
   "id": "340c31bd-75e0-4b6e-9c0a-d02bbb2a1d66",
   "metadata": {},
   "outputs": [
    {
     "name": "stdout",
     "output_type": "stream",
     "text": [
      "(39209, 30, 30, 3) (39209,)\n"
     ]
    }
   ],
   "source": [
    "# Normalizing data via Min-Max normalizer\n",
    "scaler = MinMaxScaler()\n",
    "ascolumns = data.reshape(-1, 3)\n",
    "t = scaler.fit_transform(ascolumns)\n",
    "data = t.reshape(data.shape)\n",
    "print(data.shape, labels.shape)\n"
   ]
  },
  {
   "cell_type": "code",
   "execution_count": 10,
   "id": "ecd04789-31ad-43d0-b48d-318f5e2c1ec8",
   "metadata": {},
   "outputs": [
    {
     "data": {
      "text/plain": [
       "array([[[[0.29411765, 0.30588235, 0.31372549],\n",
       "         [0.29019608, 0.29803922, 0.30588235],\n",
       "         [0.33333333, 0.3372549 , 0.32941176],\n",
       "         ...,\n",
       "         [0.26666667, 0.29411765, 0.29019608],\n",
       "         [0.25490196, 0.27058824, 0.26666667],\n",
       "         [0.25882353, 0.2627451 , 0.25882353]],\n",
       "\n",
       "        [[0.3254902 , 0.32941176, 0.3372549 ],\n",
       "         [0.31372549, 0.31372549, 0.32156863],\n",
       "         [0.34509804, 0.34509804, 0.3254902 ],\n",
       "         ...,\n",
       "         [0.28627451, 0.30196078, 0.30588235],\n",
       "         [0.29803922, 0.30588235, 0.29411765],\n",
       "         [0.31372549, 0.31372549, 0.30588235]],\n",
       "\n",
       "        [[0.30588235, 0.30588235, 0.31372549],\n",
       "         [0.3372549 , 0.33333333, 0.3372549 ],\n",
       "         [0.35294118, 0.34901961, 0.35294118],\n",
       "         ...,\n",
       "         [0.27843137, 0.29019608, 0.27843137],\n",
       "         [0.28627451, 0.29019608, 0.27058824],\n",
       "         [0.30588235, 0.30588235, 0.29019608]],\n",
       "\n",
       "        ...,\n",
       "\n",
       "        [[0.52156863, 0.5254902 , 0.54509804],\n",
       "         [0.48235294, 0.49803922, 0.51764706],\n",
       "         [0.43921569, 0.4745098 , 0.49019608],\n",
       "         ...,\n",
       "         [0.36862745, 0.37254902, 0.34901961],\n",
       "         [0.38039216, 0.38431373, 0.35686275],\n",
       "         [0.38823529, 0.40392157, 0.38823529]],\n",
       "\n",
       "        [[0.35686275, 0.37254902, 0.38823529],\n",
       "         [0.35686275, 0.38431373, 0.40392157],\n",
       "         [0.29411765, 0.3372549 , 0.35294118],\n",
       "         ...,\n",
       "         [0.40784314, 0.4       , 0.37647059],\n",
       "         [0.43137255, 0.44313725, 0.40784314],\n",
       "         [0.37647059, 0.40784314, 0.38431373]],\n",
       "\n",
       "        [[0.33333333, 0.32941176, 0.34117647],\n",
       "         [0.37254902, 0.39607843, 0.41960784],\n",
       "         [0.24705882, 0.29803922, 0.31764706],\n",
       "         ...,\n",
       "         [0.40392157, 0.40392157, 0.37254902],\n",
       "         [0.38823529, 0.4       , 0.35294118],\n",
       "         [0.35294118, 0.38039216, 0.34901961]]],\n",
       "\n",
       "\n",
       "       [[[0.27058824, 0.28627451, 0.28627451],\n",
       "         [0.29803922, 0.30980392, 0.30980392],\n",
       "         [0.29411765, 0.30196078, 0.30196078],\n",
       "         ...,\n",
       "         [0.29803922, 0.31764706, 0.31372549],\n",
       "         [0.27843137, 0.30196078, 0.30196078],\n",
       "         [0.25882353, 0.26666667, 0.2745098 ]],\n",
       "\n",
       "        [[0.25490196, 0.27058824, 0.27058824],\n",
       "         [0.29019608, 0.29803922, 0.29803922],\n",
       "         [0.32941176, 0.32941176, 0.3254902 ],\n",
       "         ...,\n",
       "         [0.35294118, 0.3254902 , 0.34901961],\n",
       "         [0.29019608, 0.30980392, 0.32941176],\n",
       "         [0.2627451 , 0.27058824, 0.28627451]],\n",
       "\n",
       "        [[0.24705882, 0.26666667, 0.26666667],\n",
       "         [0.27843137, 0.28235294, 0.28235294],\n",
       "         [0.31764706, 0.30980392, 0.30196078],\n",
       "         ...,\n",
       "         [0.41176471, 0.3372549 , 0.35686275],\n",
       "         [0.27843137, 0.29411765, 0.29803922],\n",
       "         [0.27058824, 0.27843137, 0.27058824]],\n",
       "\n",
       "        ...,\n",
       "\n",
       "        [[0.64313725, 0.54509804, 0.55686275],\n",
       "         [0.61568627, 0.54509804, 0.56470588],\n",
       "         [0.59215686, 0.54509804, 0.56078431],\n",
       "         ...,\n",
       "         [0.29803922, 0.30196078, 0.30980392],\n",
       "         [0.30196078, 0.31372549, 0.29803922],\n",
       "         [0.35294118, 0.36470588, 0.32156863]],\n",
       "\n",
       "        [[0.4       , 0.40392157, 0.40784314],\n",
       "         [0.40392157, 0.4       , 0.40784314],\n",
       "         [0.39607843, 0.38039216, 0.40392157],\n",
       "         ...,\n",
       "         [0.31372549, 0.31764706, 0.32156863],\n",
       "         [0.36078431, 0.37254902, 0.35686275],\n",
       "         [0.41568627, 0.43137255, 0.39607843]],\n",
       "\n",
       "        [[0.28235294, 0.29019608, 0.29019608],\n",
       "         [0.32156863, 0.3254902 , 0.32156863],\n",
       "         [0.36078431, 0.36078431, 0.38823529],\n",
       "         ...,\n",
       "         [0.29019608, 0.29019608, 0.29411765],\n",
       "         [0.40392157, 0.40392157, 0.39215686],\n",
       "         [0.39607843, 0.40784314, 0.37647059]]],\n",
       "\n",
       "\n",
       "       [[[0.28235294, 0.28235294, 0.28235294],\n",
       "         [0.30980392, 0.30980392, 0.30980392],\n",
       "         [0.30588235, 0.30588235, 0.28627451],\n",
       "         ...,\n",
       "         [0.30588235, 0.31764706, 0.27843137],\n",
       "         [0.28235294, 0.30980392, 0.28627451],\n",
       "         [0.24705882, 0.25882353, 0.25098039]],\n",
       "\n",
       "        [[0.25882353, 0.26666667, 0.26666667],\n",
       "         [0.30196078, 0.29411765, 0.29019608],\n",
       "         [0.36862745, 0.34117647, 0.3372549 ],\n",
       "         ...,\n",
       "         [0.42352941, 0.36470588, 0.34117647],\n",
       "         [0.30196078, 0.31372549, 0.30196078],\n",
       "         [0.29019608, 0.29411765, 0.29019608]],\n",
       "\n",
       "        [[0.25490196, 0.27058824, 0.27058824],\n",
       "         [0.29803922, 0.27843137, 0.27843137],\n",
       "         [0.43921569, 0.38431373, 0.39607843],\n",
       "         ...,\n",
       "         [0.47058824, 0.34117647, 0.35686275],\n",
       "         [0.29019608, 0.29019608, 0.29019608],\n",
       "         [0.27058824, 0.27058824, 0.2627451 ]],\n",
       "\n",
       "        ...,\n",
       "\n",
       "        [[0.57254902, 0.52156863, 0.45882353],\n",
       "         [0.56078431, 0.50980392, 0.44705882],\n",
       "         [0.54901961, 0.49803922, 0.46666667],\n",
       "         ...,\n",
       "         [0.29411765, 0.29803922, 0.29411765],\n",
       "         [0.28235294, 0.29411765, 0.29411765],\n",
       "         [0.28627451, 0.29803922, 0.30196078]],\n",
       "\n",
       "        [[0.44705882, 0.4745098 , 0.44313725],\n",
       "         [0.45098039, 0.45490196, 0.41960784],\n",
       "         [0.45098039, 0.43529412, 0.41960784],\n",
       "         ...,\n",
       "         [0.27843137, 0.28627451, 0.28627451],\n",
       "         [0.30980392, 0.31764706, 0.31372549],\n",
       "         [0.36078431, 0.36862745, 0.36078431]],\n",
       "\n",
       "        [[0.28627451, 0.30588235, 0.30196078],\n",
       "         [0.32941176, 0.34117647, 0.32941176],\n",
       "         [0.37254902, 0.37647059, 0.37254902],\n",
       "         ...,\n",
       "         [0.2745098 , 0.27843137, 0.27843137],\n",
       "         [0.31764706, 0.32156863, 0.30980392],\n",
       "         [0.37254902, 0.38039216, 0.35686275]]],\n",
       "\n",
       "\n",
       "       ...,\n",
       "\n",
       "\n",
       "       [[[0.04313725, 0.04313725, 0.05098039],\n",
       "         [0.04705882, 0.04705882, 0.05490196],\n",
       "         [0.05098039, 0.04313725, 0.05098039],\n",
       "         ...,\n",
       "         [0.04705882, 0.04313725, 0.05098039],\n",
       "         [0.04705882, 0.04313725, 0.05098039],\n",
       "         [0.04705882, 0.03921569, 0.05098039]],\n",
       "\n",
       "        [[0.04313725, 0.04313725, 0.05490196],\n",
       "         [0.05098039, 0.04313725, 0.05490196],\n",
       "         [0.04705882, 0.04313725, 0.05098039],\n",
       "         ...,\n",
       "         [0.04705882, 0.04313725, 0.05098039],\n",
       "         [0.04705882, 0.04705882, 0.05098039],\n",
       "         [0.04705882, 0.04313725, 0.04705882]],\n",
       "\n",
       "        [[0.03529412, 0.03921569, 0.05098039],\n",
       "         [0.04705882, 0.04705882, 0.0627451 ],\n",
       "         [0.05490196, 0.05882353, 0.06666667],\n",
       "         ...,\n",
       "         [0.04313725, 0.04313725, 0.05098039],\n",
       "         [0.04313725, 0.04313725, 0.05098039],\n",
       "         [0.04313725, 0.04313725, 0.04313725]],\n",
       "\n",
       "        ...,\n",
       "\n",
       "        [[0.03921569, 0.03921569, 0.04705882],\n",
       "         [0.03921569, 0.03529412, 0.04313725],\n",
       "         [0.03529412, 0.03529412, 0.04313725],\n",
       "         ...,\n",
       "         [0.03921569, 0.03529412, 0.04705882],\n",
       "         [0.04313725, 0.03921569, 0.04705882],\n",
       "         [0.04313725, 0.04313725, 0.04705882]],\n",
       "\n",
       "        [[0.03921569, 0.03529412, 0.04705882],\n",
       "         [0.03921569, 0.03529412, 0.04313725],\n",
       "         [0.03921569, 0.03529412, 0.04313725],\n",
       "         ...,\n",
       "         [0.04313725, 0.03529412, 0.04705882],\n",
       "         [0.03921569, 0.04313725, 0.05098039],\n",
       "         [0.04705882, 0.04313725, 0.04705882]],\n",
       "\n",
       "        [[0.03921569, 0.03529412, 0.04705882],\n",
       "         [0.04313725, 0.03921569, 0.04705882],\n",
       "         [0.03921569, 0.03529412, 0.04313725],\n",
       "         ...,\n",
       "         [0.04313725, 0.03921569, 0.04313725],\n",
       "         [0.04313725, 0.04313725, 0.05098039],\n",
       "         [0.04705882, 0.04313725, 0.05098039]]],\n",
       "\n",
       "\n",
       "       [[[0.05098039, 0.05098039, 0.05882353],\n",
       "         [0.05490196, 0.05098039, 0.0627451 ],\n",
       "         [0.05098039, 0.04313725, 0.05098039],\n",
       "         ...,\n",
       "         [0.04705882, 0.04313725, 0.04705882],\n",
       "         [0.04313725, 0.03921569, 0.04313725],\n",
       "         [0.04313725, 0.05098039, 0.0745098 ]],\n",
       "\n",
       "        [[0.05490196, 0.04705882, 0.05490196],\n",
       "         [0.05098039, 0.04705882, 0.05490196],\n",
       "         [0.05490196, 0.04705882, 0.05490196],\n",
       "         ...,\n",
       "         [0.04313725, 0.04313725, 0.05098039],\n",
       "         [0.04313725, 0.03921569, 0.04705882],\n",
       "         [0.03921569, 0.04313725, 0.05490196]],\n",
       "\n",
       "        [[0.04705882, 0.04313725, 0.04705882],\n",
       "         [0.05098039, 0.04705882, 0.05098039],\n",
       "         [0.05098039, 0.04705882, 0.05490196],\n",
       "         ...,\n",
       "         [0.04313725, 0.03921569, 0.04705882],\n",
       "         [0.04313725, 0.03921569, 0.04705882],\n",
       "         [0.03921569, 0.03529412, 0.04313725]],\n",
       "\n",
       "        ...,\n",
       "\n",
       "        [[0.04705882, 0.04705882, 0.05098039],\n",
       "         [0.04313725, 0.03921569, 0.04313725],\n",
       "         [0.03529412, 0.03529412, 0.04313725],\n",
       "         ...,\n",
       "         [0.05098039, 0.04705882, 0.05098039],\n",
       "         [0.04313725, 0.03529412, 0.04313725],\n",
       "         [0.03529412, 0.03529412, 0.03921569]],\n",
       "\n",
       "        [[0.04313725, 0.03921569, 0.04705882],\n",
       "         [0.04705882, 0.03921569, 0.04705882],\n",
       "         [0.03921569, 0.03529412, 0.04313725],\n",
       "         ...,\n",
       "         [0.05490196, 0.05098039, 0.05882353],\n",
       "         [0.04313725, 0.03921569, 0.03921569],\n",
       "         [0.03921569, 0.03529412, 0.03529412]],\n",
       "\n",
       "        [[0.03921569, 0.03529412, 0.04313725],\n",
       "         [0.03921569, 0.03529412, 0.04313725],\n",
       "         [0.03921569, 0.03921569, 0.04705882],\n",
       "         ...,\n",
       "         [0.05490196, 0.04705882, 0.05490196],\n",
       "         [0.04313725, 0.03921569, 0.04313725],\n",
       "         [0.03921569, 0.03529412, 0.03921569]]],\n",
       "\n",
       "\n",
       "       [[[0.04313725, 0.03921569, 0.04705882],\n",
       "         [0.04313725, 0.03921569, 0.04313725],\n",
       "         [0.03921569, 0.03921569, 0.04313725],\n",
       "         ...,\n",
       "         [0.07058824, 0.07843137, 0.08627451],\n",
       "         [0.09803922, 0.09411765, 0.09019608],\n",
       "         [0.09411765, 0.06666667, 0.06666667]],\n",
       "\n",
       "        [[0.04705882, 0.04313725, 0.04705882],\n",
       "         [0.04705882, 0.04313725, 0.04705882],\n",
       "         [0.04705882, 0.03921569, 0.04705882],\n",
       "         ...,\n",
       "         [0.17647059, 0.23529412, 0.30196078],\n",
       "         [0.31372549, 0.30196078, 0.3254902 ],\n",
       "         [0.2       , 0.11764706, 0.10588235]],\n",
       "\n",
       "        [[0.04705882, 0.04705882, 0.05098039],\n",
       "         [0.04705882, 0.04705882, 0.05490196],\n",
       "         [0.04705882, 0.04313725, 0.04705882],\n",
       "         ...,\n",
       "         [0.27058824, 0.34117647, 0.42745098],\n",
       "         [0.34901961, 0.32941176, 0.40392157],\n",
       "         [0.2       , 0.14901961, 0.17254902]],\n",
       "\n",
       "        ...,\n",
       "\n",
       "        [[0.04705882, 0.04313725, 0.05490196],\n",
       "         [0.05098039, 0.04313725, 0.04705882],\n",
       "         [0.03921569, 0.03529412, 0.03921569],\n",
       "         ...,\n",
       "         [0.03921569, 0.03529412, 0.04313725],\n",
       "         [0.03921569, 0.03529412, 0.04313725],\n",
       "         [0.03529412, 0.03529412, 0.04313725]],\n",
       "\n",
       "        [[0.04313725, 0.04313725, 0.05098039],\n",
       "         [0.04313725, 0.03921569, 0.04705882],\n",
       "         [0.03529412, 0.03529412, 0.03921569],\n",
       "         ...,\n",
       "         [0.03921569, 0.03529412, 0.04313725],\n",
       "         [0.03529412, 0.03529412, 0.04313725],\n",
       "         [0.03921569, 0.03529412, 0.04313725]],\n",
       "\n",
       "        [[0.04313725, 0.04313725, 0.04705882],\n",
       "         [0.03921569, 0.03921569, 0.04313725],\n",
       "         [0.03529412, 0.03529412, 0.03921569],\n",
       "         ...,\n",
       "         [0.03921569, 0.03529412, 0.04705882],\n",
       "         [0.03921569, 0.03921569, 0.04313725],\n",
       "         [0.03921569, 0.03529412, 0.04313725]]]])"
      ]
     },
     "execution_count": 10,
     "metadata": {},
     "output_type": "execute_result"
    }
   ],
   "source": [
    "data"
   ]
  },
  {
   "cell_type": "code",
   "execution_count": 11,
   "id": "cea242f1-8a20-4746-868e-a6f357e879b0",
   "metadata": {},
   "outputs": [
    {
     "name": "stdout",
     "output_type": "stream",
     "text": [
      "(31367, 30, 30, 3) (7842, 30, 30, 3) (31367,) (7842,)\n"
     ]
    }
   ],
   "source": [
    "# Splitting training and validation dataset\n",
    "X_train, X_val, y_train, y_val = train_test_split(data, labels, test_size=0.2, random_state=42)\n",
    "\n",
    "print(X_train.shape, X_val.shape, y_train.shape, y_val.shape)\n"
   ]
  },
  {
   "cell_type": "code",
   "execution_count": 12,
   "id": "177c489a-e089-49b0-887c-f5207593a9b7",
   "metadata": {},
   "outputs": [],
   "source": [
    "# Converting the labels into one hot encoding\n",
    "y_train = to_categorical(y_train, 43)\n",
    "y_val = to_categorical(y_val, 43)\n"
   ]
  },
  {
   "cell_type": "code",
   "execution_count": 16,
   "id": "c7628b67-f4f9-46a4-9788-6a547f14ea88",
   "metadata": {},
   "outputs": [
    {
     "data": {
      "text/plain": [
       "(31367, 43)"
      ]
     },
     "execution_count": 16,
     "metadata": {},
     "output_type": "execute_result"
    }
   ],
   "source": [
    "y_train.shape"
   ]
  },
  {
   "cell_type": "code",
   "execution_count": 17,
   "id": "397d01ea-43b9-443c-960b-7de9639266e7",
   "metadata": {},
   "outputs": [
    {
     "name": "stderr",
     "output_type": "stream",
     "text": [
      "C:\\Users\\prvij\\anaconda3\\Lib\\site-packages\\keras\\src\\layers\\convolutional\\base_conv.py:107: UserWarning: Do not pass an `input_shape`/`input_dim` argument to a layer. When using Sequential models, prefer using an `Input(shape)` object as the first layer in the model instead.\n",
      "  super().__init__(activity_regularizer=activity_regularizer, **kwargs)\n"
     ]
    },
    {
     "data": {
      "text/html": [
       "<pre style=\"white-space:pre;overflow-x:auto;line-height:normal;font-family:Menlo,'DejaVu Sans Mono',consolas,'Courier New',monospace\"><span style=\"font-weight: bold\">Model: \"sequential\"</span>\n",
       "</pre>\n"
      ],
      "text/plain": [
       "\u001b[1mModel: \"sequential\"\u001b[0m\n"
      ]
     },
     "metadata": {},
     "output_type": "display_data"
    },
    {
     "data": {
      "text/html": [
       "<pre style=\"white-space:pre;overflow-x:auto;line-height:normal;font-family:Menlo,'DejaVu Sans Mono',consolas,'Courier New',monospace\">┏━━━━━━━━━━━━━━━━━━━━━━━━━━━━━━━━━━━━━━┳━━━━━━━━━━━━━━━━━━━━━━━━━━━━━┳━━━━━━━━━━━━━━━━━┓\n",
       "┃<span style=\"font-weight: bold\"> Layer (type)                         </span>┃<span style=\"font-weight: bold\"> Output Shape                </span>┃<span style=\"font-weight: bold\">         Param # </span>┃\n",
       "┡━━━━━━━━━━━━━━━━━━━━━━━━━━━━━━━━━━━━━━╇━━━━━━━━━━━━━━━━━━━━━━━━━━━━━╇━━━━━━━━━━━━━━━━━┩\n",
       "│ conv2d (<span style=\"color: #0087ff; text-decoration-color: #0087ff\">Conv2D</span>)                      │ (<span style=\"color: #00d7ff; text-decoration-color: #00d7ff\">None</span>, <span style=\"color: #00af00; text-decoration-color: #00af00\">26</span>, <span style=\"color: #00af00; text-decoration-color: #00af00\">26</span>, <span style=\"color: #00af00; text-decoration-color: #00af00\">32</span>)          │           <span style=\"color: #00af00; text-decoration-color: #00af00\">2,432</span> │\n",
       "├──────────────────────────────────────┼─────────────────────────────┼─────────────────┤\n",
       "│ max_pooling2d (<span style=\"color: #0087ff; text-decoration-color: #0087ff\">MaxPooling2D</span>)         │ (<span style=\"color: #00d7ff; text-decoration-color: #00d7ff\">None</span>, <span style=\"color: #00af00; text-decoration-color: #00af00\">13</span>, <span style=\"color: #00af00; text-decoration-color: #00af00\">13</span>, <span style=\"color: #00af00; text-decoration-color: #00af00\">32</span>)          │               <span style=\"color: #00af00; text-decoration-color: #00af00\">0</span> │\n",
       "├──────────────────────────────────────┼─────────────────────────────┼─────────────────┤\n",
       "│ dropout (<span style=\"color: #0087ff; text-decoration-color: #0087ff\">Dropout</span>)                    │ (<span style=\"color: #00d7ff; text-decoration-color: #00d7ff\">None</span>, <span style=\"color: #00af00; text-decoration-color: #00af00\">13</span>, <span style=\"color: #00af00; text-decoration-color: #00af00\">13</span>, <span style=\"color: #00af00; text-decoration-color: #00af00\">32</span>)          │               <span style=\"color: #00af00; text-decoration-color: #00af00\">0</span> │\n",
       "├──────────────────────────────────────┼─────────────────────────────┼─────────────────┤\n",
       "│ conv2d_1 (<span style=\"color: #0087ff; text-decoration-color: #0087ff\">Conv2D</span>)                    │ (<span style=\"color: #00d7ff; text-decoration-color: #00d7ff\">None</span>, <span style=\"color: #00af00; text-decoration-color: #00af00\">11</span>, <span style=\"color: #00af00; text-decoration-color: #00af00\">11</span>, <span style=\"color: #00af00; text-decoration-color: #00af00\">64</span>)          │          <span style=\"color: #00af00; text-decoration-color: #00af00\">18,496</span> │\n",
       "├──────────────────────────────────────┼─────────────────────────────┼─────────────────┤\n",
       "│ max_pooling2d_1 (<span style=\"color: #0087ff; text-decoration-color: #0087ff\">MaxPooling2D</span>)       │ (<span style=\"color: #00d7ff; text-decoration-color: #00d7ff\">None</span>, <span style=\"color: #00af00; text-decoration-color: #00af00\">5</span>, <span style=\"color: #00af00; text-decoration-color: #00af00\">5</span>, <span style=\"color: #00af00; text-decoration-color: #00af00\">64</span>)            │               <span style=\"color: #00af00; text-decoration-color: #00af00\">0</span> │\n",
       "├──────────────────────────────────────┼─────────────────────────────┼─────────────────┤\n",
       "│ dropout_1 (<span style=\"color: #0087ff; text-decoration-color: #0087ff\">Dropout</span>)                  │ (<span style=\"color: #00d7ff; text-decoration-color: #00d7ff\">None</span>, <span style=\"color: #00af00; text-decoration-color: #00af00\">5</span>, <span style=\"color: #00af00; text-decoration-color: #00af00\">5</span>, <span style=\"color: #00af00; text-decoration-color: #00af00\">64</span>)            │               <span style=\"color: #00af00; text-decoration-color: #00af00\">0</span> │\n",
       "├──────────────────────────────────────┼─────────────────────────────┼─────────────────┤\n",
       "│ flatten (<span style=\"color: #0087ff; text-decoration-color: #0087ff\">Flatten</span>)                    │ (<span style=\"color: #00d7ff; text-decoration-color: #00d7ff\">None</span>, <span style=\"color: #00af00; text-decoration-color: #00af00\">1600</span>)                │               <span style=\"color: #00af00; text-decoration-color: #00af00\">0</span> │\n",
       "├──────────────────────────────────────┼─────────────────────────────┼─────────────────┤\n",
       "│ dense (<span style=\"color: #0087ff; text-decoration-color: #0087ff\">Dense</span>)                        │ (<span style=\"color: #00d7ff; text-decoration-color: #00d7ff\">None</span>, <span style=\"color: #00af00; text-decoration-color: #00af00\">256</span>)                 │         <span style=\"color: #00af00; text-decoration-color: #00af00\">409,856</span> │\n",
       "├──────────────────────────────────────┼─────────────────────────────┼─────────────────┤\n",
       "│ dropout_2 (<span style=\"color: #0087ff; text-decoration-color: #0087ff\">Dropout</span>)                  │ (<span style=\"color: #00d7ff; text-decoration-color: #00d7ff\">None</span>, <span style=\"color: #00af00; text-decoration-color: #00af00\">256</span>)                 │               <span style=\"color: #00af00; text-decoration-color: #00af00\">0</span> │\n",
       "├──────────────────────────────────────┼─────────────────────────────┼─────────────────┤\n",
       "│ dense_1 (<span style=\"color: #0087ff; text-decoration-color: #0087ff\">Dense</span>)                      │ (<span style=\"color: #00d7ff; text-decoration-color: #00d7ff\">None</span>, <span style=\"color: #00af00; text-decoration-color: #00af00\">43</span>)                  │          <span style=\"color: #00af00; text-decoration-color: #00af00\">11,051</span> │\n",
       "└──────────────────────────────────────┴─────────────────────────────┴─────────────────┘\n",
       "</pre>\n"
      ],
      "text/plain": [
       "┏━━━━━━━━━━━━━━━━━━━━━━━━━━━━━━━━━━━━━━┳━━━━━━━━━━━━━━━━━━━━━━━━━━━━━┳━━━━━━━━━━━━━━━━━┓\n",
       "┃\u001b[1m \u001b[0m\u001b[1mLayer (type)                        \u001b[0m\u001b[1m \u001b[0m┃\u001b[1m \u001b[0m\u001b[1mOutput Shape               \u001b[0m\u001b[1m \u001b[0m┃\u001b[1m \u001b[0m\u001b[1m        Param #\u001b[0m\u001b[1m \u001b[0m┃\n",
       "┡━━━━━━━━━━━━━━━━━━━━━━━━━━━━━━━━━━━━━━╇━━━━━━━━━━━━━━━━━━━━━━━━━━━━━╇━━━━━━━━━━━━━━━━━┩\n",
       "│ conv2d (\u001b[38;5;33mConv2D\u001b[0m)                      │ (\u001b[38;5;45mNone\u001b[0m, \u001b[38;5;34m26\u001b[0m, \u001b[38;5;34m26\u001b[0m, \u001b[38;5;34m32\u001b[0m)          │           \u001b[38;5;34m2,432\u001b[0m │\n",
       "├──────────────────────────────────────┼─────────────────────────────┼─────────────────┤\n",
       "│ max_pooling2d (\u001b[38;5;33mMaxPooling2D\u001b[0m)         │ (\u001b[38;5;45mNone\u001b[0m, \u001b[38;5;34m13\u001b[0m, \u001b[38;5;34m13\u001b[0m, \u001b[38;5;34m32\u001b[0m)          │               \u001b[38;5;34m0\u001b[0m │\n",
       "├──────────────────────────────────────┼─────────────────────────────┼─────────────────┤\n",
       "│ dropout (\u001b[38;5;33mDropout\u001b[0m)                    │ (\u001b[38;5;45mNone\u001b[0m, \u001b[38;5;34m13\u001b[0m, \u001b[38;5;34m13\u001b[0m, \u001b[38;5;34m32\u001b[0m)          │               \u001b[38;5;34m0\u001b[0m │\n",
       "├──────────────────────────────────────┼─────────────────────────────┼─────────────────┤\n",
       "│ conv2d_1 (\u001b[38;5;33mConv2D\u001b[0m)                    │ (\u001b[38;5;45mNone\u001b[0m, \u001b[38;5;34m11\u001b[0m, \u001b[38;5;34m11\u001b[0m, \u001b[38;5;34m64\u001b[0m)          │          \u001b[38;5;34m18,496\u001b[0m │\n",
       "├──────────────────────────────────────┼─────────────────────────────┼─────────────────┤\n",
       "│ max_pooling2d_1 (\u001b[38;5;33mMaxPooling2D\u001b[0m)       │ (\u001b[38;5;45mNone\u001b[0m, \u001b[38;5;34m5\u001b[0m, \u001b[38;5;34m5\u001b[0m, \u001b[38;5;34m64\u001b[0m)            │               \u001b[38;5;34m0\u001b[0m │\n",
       "├──────────────────────────────────────┼─────────────────────────────┼─────────────────┤\n",
       "│ dropout_1 (\u001b[38;5;33mDropout\u001b[0m)                  │ (\u001b[38;5;45mNone\u001b[0m, \u001b[38;5;34m5\u001b[0m, \u001b[38;5;34m5\u001b[0m, \u001b[38;5;34m64\u001b[0m)            │               \u001b[38;5;34m0\u001b[0m │\n",
       "├──────────────────────────────────────┼─────────────────────────────┼─────────────────┤\n",
       "│ flatten (\u001b[38;5;33mFlatten\u001b[0m)                    │ (\u001b[38;5;45mNone\u001b[0m, \u001b[38;5;34m1600\u001b[0m)                │               \u001b[38;5;34m0\u001b[0m │\n",
       "├──────────────────────────────────────┼─────────────────────────────┼─────────────────┤\n",
       "│ dense (\u001b[38;5;33mDense\u001b[0m)                        │ (\u001b[38;5;45mNone\u001b[0m, \u001b[38;5;34m256\u001b[0m)                 │         \u001b[38;5;34m409,856\u001b[0m │\n",
       "├──────────────────────────────────────┼─────────────────────────────┼─────────────────┤\n",
       "│ dropout_2 (\u001b[38;5;33mDropout\u001b[0m)                  │ (\u001b[38;5;45mNone\u001b[0m, \u001b[38;5;34m256\u001b[0m)                 │               \u001b[38;5;34m0\u001b[0m │\n",
       "├──────────────────────────────────────┼─────────────────────────────┼─────────────────┤\n",
       "│ dense_1 (\u001b[38;5;33mDense\u001b[0m)                      │ (\u001b[38;5;45mNone\u001b[0m, \u001b[38;5;34m43\u001b[0m)                  │          \u001b[38;5;34m11,051\u001b[0m │\n",
       "└──────────────────────────────────────┴─────────────────────────────┴─────────────────┘\n"
      ]
     },
     "metadata": {},
     "output_type": "display_data"
    },
    {
     "data": {
      "text/html": [
       "<pre style=\"white-space:pre;overflow-x:auto;line-height:normal;font-family:Menlo,'DejaVu Sans Mono',consolas,'Courier New',monospace\"><span style=\"font-weight: bold\"> Total params: </span><span style=\"color: #00af00; text-decoration-color: #00af00\">441,835</span> (1.69 MB)\n",
       "</pre>\n"
      ],
      "text/plain": [
       "\u001b[1m Total params: \u001b[0m\u001b[38;5;34m441,835\u001b[0m (1.69 MB)\n"
      ]
     },
     "metadata": {},
     "output_type": "display_data"
    },
    {
     "data": {
      "text/html": [
       "<pre style=\"white-space:pre;overflow-x:auto;line-height:normal;font-family:Menlo,'DejaVu Sans Mono',consolas,'Courier New',monospace\"><span style=\"font-weight: bold\"> Trainable params: </span><span style=\"color: #00af00; text-decoration-color: #00af00\">441,835</span> (1.69 MB)\n",
       "</pre>\n"
      ],
      "text/plain": [
       "\u001b[1m Trainable params: \u001b[0m\u001b[38;5;34m441,835\u001b[0m (1.69 MB)\n"
      ]
     },
     "metadata": {},
     "output_type": "display_data"
    },
    {
     "data": {
      "text/html": [
       "<pre style=\"white-space:pre;overflow-x:auto;line-height:normal;font-family:Menlo,'DejaVu Sans Mono',consolas,'Courier New',monospace\"><span style=\"font-weight: bold\"> Non-trainable params: </span><span style=\"color: #00af00; text-decoration-color: #00af00\">0</span> (0.00 B)\n",
       "</pre>\n"
      ],
      "text/plain": [
       "\u001b[1m Non-trainable params: \u001b[0m\u001b[38;5;34m0\u001b[0m (0.00 B)\n"
      ]
     },
     "metadata": {},
     "output_type": "display_data"
    }
   ],
   "source": [
    "# Building the model\n",
    "model = Sequential()\n",
    "model.add(Conv2D(filters=32, kernel_size=(5,5), activation='relu', input_shape=X_train.shape[1:]))\n",
    "model.add(MaxPool2D(pool_size=(2, 2)))\n",
    "model.add(Dropout(rate=0.25))\n",
    "model.add(Conv2D(filters=64, kernel_size=(3, 3), activation='relu'))\n",
    "model.add(MaxPool2D(pool_size=(2, 2)))\n",
    "model.add(Dropout(rate=0.25))\n",
    "model.add(Flatten())\n",
    "model.add(Dense(256, activation='relu'))\n",
    "model.add(Dropout(rate=0.5))\n",
    "model.add(Dense(43, activation='softmax'))\n",
    "model.summary()\n"
   ]
  },
  {
   "cell_type": "code",
   "execution_count": 18,
   "id": "12b53814-5693-481f-93a3-48fb7b245604",
   "metadata": {},
   "outputs": [
    {
     "name": "stdout",
     "output_type": "stream",
     "text": [
      "Epoch 1/15\n",
      "\u001b[1m981/981\u001b[0m \u001b[32m━━━━━━━━━━━━━━━━━━━━\u001b[0m\u001b[37m\u001b[0m \u001b[1m10s\u001b[0m 8ms/step - accuracy: 0.3928 - loss: 2.2654 - val_accuracy: 0.9221 - val_loss: 0.2919\n",
      "Epoch 2/15\n",
      "\u001b[1m981/981\u001b[0m \u001b[32m━━━━━━━━━━━━━━━━━━━━\u001b[0m\u001b[37m\u001b[0m \u001b[1m7s\u001b[0m 7ms/step - accuracy: 0.8631 - loss: 0.4457 - val_accuracy: 0.9767 - val_loss: 0.1146\n",
      "Epoch 3/15\n",
      "\u001b[1m981/981\u001b[0m \u001b[32m━━━━━━━━━━━━━━━━━━━━\u001b[0m\u001b[37m\u001b[0m \u001b[1m7s\u001b[0m 7ms/step - accuracy: 0.9191 - loss: 0.2618 - val_accuracy: 0.9825 - val_loss: 0.0787\n",
      "Epoch 4/15\n",
      "\u001b[1m981/981\u001b[0m \u001b[32m━━━━━━━━━━━━━━━━━━━━\u001b[0m\u001b[37m\u001b[0m \u001b[1m7s\u001b[0m 7ms/step - accuracy: 0.9476 - loss: 0.1764 - val_accuracy: 0.9867 - val_loss: 0.0549\n",
      "Epoch 5/15\n",
      "\u001b[1m981/981\u001b[0m \u001b[32m━━━━━━━━━━━━━━━━━━━━\u001b[0m\u001b[37m\u001b[0m \u001b[1m7s\u001b[0m 7ms/step - accuracy: 0.9524 - loss: 0.1520 - val_accuracy: 0.9930 - val_loss: 0.0413\n",
      "Epoch 6/15\n",
      "\u001b[1m981/981\u001b[0m \u001b[32m━━━━━━━━━━━━━━━━━━━━\u001b[0m\u001b[37m\u001b[0m \u001b[1m7s\u001b[0m 7ms/step - accuracy: 0.9617 - loss: 0.1197 - val_accuracy: 0.9934 - val_loss: 0.0308\n",
      "Epoch 7/15\n",
      "\u001b[1m981/981\u001b[0m \u001b[32m━━━━━━━━━━━━━━━━━━━━\u001b[0m\u001b[37m\u001b[0m \u001b[1m7s\u001b[0m 7ms/step - accuracy: 0.9662 - loss: 0.1082 - val_accuracy: 0.9918 - val_loss: 0.0333\n",
      "Epoch 8/15\n",
      "\u001b[1m981/981\u001b[0m \u001b[32m━━━━━━━━━━━━━━━━━━━━\u001b[0m\u001b[37m\u001b[0m \u001b[1m7s\u001b[0m 7ms/step - accuracy: 0.9693 - loss: 0.0975 - val_accuracy: 0.9948 - val_loss: 0.0221\n",
      "Epoch 9/15\n",
      "\u001b[1m981/981\u001b[0m \u001b[32m━━━━━━━━━━━━━━━━━━━━\u001b[0m\u001b[37m\u001b[0m \u001b[1m7s\u001b[0m 7ms/step - accuracy: 0.9730 - loss: 0.0870 - val_accuracy: 0.9945 - val_loss: 0.0245\n",
      "Epoch 10/15\n",
      "\u001b[1m981/981\u001b[0m \u001b[32m━━━━━━━━━━━━━━━━━━━━\u001b[0m\u001b[37m\u001b[0m \u001b[1m7s\u001b[0m 7ms/step - accuracy: 0.9732 - loss: 0.0832 - val_accuracy: 0.9955 - val_loss: 0.0240\n",
      "Epoch 11/15\n",
      "\u001b[1m981/981\u001b[0m \u001b[32m━━━━━━━━━━━━━━━━━━━━\u001b[0m\u001b[37m\u001b[0m \u001b[1m7s\u001b[0m 7ms/step - accuracy: 0.9774 - loss: 0.0774 - val_accuracy: 0.9940 - val_loss: 0.0246\n",
      "Epoch 12/15\n",
      "\u001b[1m981/981\u001b[0m \u001b[32m━━━━━━━━━━━━━━━━━━━━\u001b[0m\u001b[37m\u001b[0m \u001b[1m7s\u001b[0m 7ms/step - accuracy: 0.9787 - loss: 0.0725 - val_accuracy: 0.9926 - val_loss: 0.0290\n",
      "Epoch 13/15\n",
      "\u001b[1m981/981\u001b[0m \u001b[32m━━━━━━━━━━━━━━━━━━━━\u001b[0m\u001b[37m\u001b[0m \u001b[1m7s\u001b[0m 7ms/step - accuracy: 0.9756 - loss: 0.0796 - val_accuracy: 0.9962 - val_loss: 0.0205\n",
      "Epoch 14/15\n",
      "\u001b[1m981/981\u001b[0m \u001b[32m━━━━━━━━━━━━━━━━━━━━\u001b[0m\u001b[37m\u001b[0m \u001b[1m7s\u001b[0m 7ms/step - accuracy: 0.9796 - loss: 0.0659 - val_accuracy: 0.9945 - val_loss: 0.0281\n",
      "Epoch 15/15\n",
      "\u001b[1m981/981\u001b[0m \u001b[32m━━━━━━━━━━━━━━━━━━━━\u001b[0m\u001b[37m\u001b[0m \u001b[1m7s\u001b[0m 7ms/step - accuracy: 0.9794 - loss: 0.0724 - val_accuracy: 0.9944 - val_loss: 0.0244\n"
     ]
    },
    {
     "name": "stderr",
     "output_type": "stream",
     "text": [
      "WARNING:absl:You are saving your model as an HDF5 file via `model.save()` or `keras.saving.save_model(model)`. This file format is considered legacy. We recommend using instead the native Keras format, e.g. `model.save('my_model.keras')` or `keras.saving.save_model(model, 'my_model.keras')`. \n"
     ]
    }
   ],
   "source": [
    "# Compilation of the model\n",
    "model.compile(loss='categorical_crossentropy', optimizer='adam', metrics=['accuracy'])\n",
    "\n",
    "epochs = 15\n",
    "history = model.fit(X_train, y_train, batch_size=32, epochs=epochs, validation_data=(X_val, y_val))\n",
    "model.save('traffic_classifier.h5')"
   ]
  },
  {
   "cell_type": "code",
   "execution_count": 19,
   "id": "3db41de2-d2d4-4e46-b420-a6a306a701df",
   "metadata": {},
   "outputs": [
    {
     "data": {
      "image/png": "[encoded data removed]",
      "text/plain": [
       "<Figure size 640x480 with 1 Axes>"
      ]
     },
     "metadata": {},
     "output_type": "display_data"
    }
   ],
   "source": [
    "# Plotting graphs for accuracy\n",
    "plt.figure(0)\n",
    "plt.plot(history.history['accuracy'], label='training accuracy')\n",
    "plt.plot(history.history['val_accuracy'], label='val accuracy')\n",
    "plt.title('Accuracy')\n",
    "plt.xlabel('epochs')\n",
    "plt.ylabel('accuracy')\n",
    "plt.legend()\n",
    "plt.show()\n"
   ]
  },
  {
   "cell_type": "code",
   "execution_count": 20,
   "id": "a21cef6c-ecea-4b3b-96cc-b3d58823ad9a",
   "metadata": {},
   "outputs": [
    {
     "data": {
      "image/png": "[encoded data removed]",
      "text/plain": [
       "<Figure size 640x480 with 1 Axes>"
      ]
     },
     "metadata": {},
     "output_type": "display_data"
    }
   ],
   "source": [
    "plt.figure(1)\n",
    "plt.plot(history.history['loss'], label='training loss')\n",
    "plt.plot(history.history['val_loss'], label='val loss')\n",
    "plt.title('Loss')\n",
    "plt.xlabel('epochs')\n",
    "plt.ylabel('loss')\n",
    "plt.legend()\n",
    "plt.show()"
   ]
  },
  {
   "cell_type": "code",
   "execution_count": 21,
   "id": "90984563-d3ad-41ed-b5e2-7648201c3ac8",
   "metadata": {},
   "outputs": [],
   "source": [
    "# Testing the model\n",
    "path = os.path.join(cur_path,data_folder)\n",
    "y_test = pd.read_csv(data_folder+'/'+'Test.csv')\n",
    "labels = y_test[\"ClassId\"].values\n",
    "imgs = y_test[\"Path\"].values\n",
    "\n",
    "data=[]\n",
    "\n",
    "for img in imgs:\n",
    "    image = Image.open(path + '\\\\' + img)\n",
    "    image = image.resize((30,30))\n",
    "    data.append(np.array(image))\n",
    "\n",
    "X_test = np.array(data)"
   ]
  },
  {
   "cell_type": "code",
   "execution_count": 22,
   "id": "a2f2ef15-98cb-4c3c-be5a-2f5fe2e6d431",
   "metadata": {},
   "outputs": [],
   "source": [
    "# Normalizing test set\n",
    "ascolumns = X_test.reshape(-1, 3)\n",
    "t = scaler.transform(ascolumns)\n",
    "X_test = t.reshape(X_test.shape)\n"
   ]
  },
  {
   "cell_type": "code",
   "execution_count": 23,
   "id": "eb5aaa10-736c-460f-9d14-852f59445ce1",
   "metadata": {},
   "outputs": [
    {
     "name": "stdout",
     "output_type": "stream",
     "text": [
      "\u001b[1m395/395\u001b[0m \u001b[32m━━━━━━━━━━━━━━━━━━━━\u001b[0m\u001b[37m\u001b[0m \u001b[1m1s\u001b[0m 3ms/step\n"
     ]
    }
   ],
   "source": [
    "# Predicting on test set\n",
    "pred = np.argmax(model.predict(X_test),axis=1)\n"
   ]
  },
  {
   "cell_type": "code",
   "execution_count": 24,
   "id": "b9ca3d9d-1d15-46c2-8721-8d60766ef816",
   "metadata": {},
   "outputs": [
    {
     "name": "stdout",
     "output_type": "stream",
     "text": [
      "Confusion Matrix:\n",
      "[[ 60   0   0 ...   0   0   0]\n",
      " [  0 688  28 ...   0   0   0]\n",
      " [  0   4 743 ...   0   0   0]\n",
      " ...\n",
      " [  0   0   1 ...  84   0   0]\n",
      " [  0   0   0 ...   0  52   0]\n",
      " [  0   0   0 ...   0   1  89]]\n",
      "Accuracy: 0.960728\n",
      "Precision: 0.949839\n",
      "Recall: 0.945250\n",
      "F1 score: 0.945850\n"
     ]
    }
   ],
   "source": [
    "# Performance evaluation\n",
    "cm = confusion_matrix(labels, pred)\n",
    "print('Confusion Matrix:')\n",
    "print(cm)\n",
    "\n",
    "# accuracy: (tp + tn) / (p + n)\n",
    "accuracy = accuracy_score(labels, pred)\n",
    "print('Accuracy: %f' % accuracy)\n",
    "# precision tp / (tp + fp)\n",
    "precision = precision_score(labels, pred, average='macro')\n",
    "print('Precision: %f' % precision)\n",
    "# recall: tp / (tp + fn)\n",
    "recall = recall_score(labels, pred, average='macro')\n",
    "print('Recall: %f' % recall)\n",
    "# f1: 2 tp / (2 tp + fp + fn)\n",
    "f1 = f1_score(labels, pred, average='macro')\n",
    "print('F1 score: %f' % f1)\n"
   ]
  }
 ],
 "metadata": {
  "kernelspec": {
   "display_name": "Python 3 (ipykernel)",
   "language": "python",
   "name": "python3"
  },
  "language_info": {
   "codemirror_mode": {
    "name": "ipython",
    "version": 3
   },
   "file_extension": ".py",
   "mimetype": "text/x-python",
   "name": "python",
   "nbconvert_exporter": "python",
   "pygments_lexer": "ipython3",
   "version": "3.12.4"
  }
 },
 "nbformat": 4,
 "nbformat_minor": 5
}
